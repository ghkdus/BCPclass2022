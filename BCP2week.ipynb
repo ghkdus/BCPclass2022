{
  "nbformat": 4,
  "nbformat_minor": 0,
  "metadata": {
    "colab": {
      "name": "BCP2week.ipynb",
      "provenance": [],
      "collapsed_sections": [],
      "authorship_tag": "ABX9TyNDOliXZ8iHjiK8PhvT9oSF",
      "include_colab_link": true
    },
    "kernelspec": {
      "name": "python3",
      "display_name": "Python 3"
    },
    "language_info": {
      "name": "python"
    }
  },
  "cells": [
    {
      "cell_type": "markdown",
      "metadata": {
        "id": "view-in-github",
        "colab_type": "text"
      },
      "source": [
        "<a href=\"https://colab.research.google.com/github/ghkdus/BCPclass2022/blob/main/BCP2week.ipynb\" target=\"_parent\"><img src=\"https://colab.research.google.com/assets/colab-badge.svg\" alt=\"Open In Colab\"/></a>"
      ]
    },
    {
      "cell_type": "markdown",
      "source": [
        "# 실습"
      ],
      "metadata": {
        "id": "-T0ygv3HABSh"
      }
    },
    {
      "cell_type": "markdown",
      "source": [
        "hello_1.py"
      ],
      "metadata": {
        "id": "SAKTfLvbAbwY"
      }
    },
    {
      "cell_type": "code",
      "execution_count": null,
      "metadata": {
        "colab": {
          "base_uri": "https://localhost:8080/"
        },
        "id": "Fr7IwLL__zae",
        "outputId": "08abe08e-be1c-4d12-c0ef-6096ef957bc4"
      },
      "outputs": [
        {
          "output_type": "stream",
          "name": "stdout",
          "text": [
            "Hello World\n"
          ]
        }
      ],
      "source": [
        "print('Hello World')"
      ]
    },
    {
      "cell_type": "markdown",
      "source": [
        "hello_2.py"
      ],
      "metadata": {
        "id": "xYj_4OUJBLZv"
      }
    },
    {
      "cell_type": "code",
      "source": [
        "print('Hello World')\n",
        "print('Hello World')"
      ],
      "metadata": {
        "colab": {
          "base_uri": "https://localhost:8080/"
        },
        "id": "FVM2NFEWBP90",
        "outputId": "75c5d690-a009-48d0-ac33-7f8f5c08ed2f"
      },
      "execution_count": null,
      "outputs": [
        {
          "output_type": "stream",
          "name": "stdout",
          "text": [
            "Hello World\n",
            "Hello World\n"
          ]
        }
      ]
    },
    {
      "cell_type": "markdown",
      "source": [
        "hello_3.py"
      ],
      "metadata": {
        "id": "9NvuUV0eBebG"
      }
    },
    {
      "cell_type": "code",
      "source": [
        "def DoubleHello():\n",
        "   print('Hello World')\n",
        "   print('Hello World')\n",
        "  \n",
        "DoubleHello()"
      ],
      "metadata": {
        "colab": {
          "base_uri": "https://localhost:8080/"
        },
        "id": "-dGZOaFDBSzd",
        "outputId": "7a8a50a8-1eff-4ac4-a749-bf8bc061a255"
      },
      "execution_count": null,
      "outputs": [
        {
          "output_type": "stream",
          "name": "stdout",
          "text": [
            "Hello World\n",
            "Hello World\n"
          ]
        }
      ]
    },
    {
      "cell_type": "markdown",
      "source": [
        "hello_4.py"
      ],
      "metadata": {
        "id": "AFEyntL5C3R2"
      }
    },
    {
      "cell_type": "code",
      "source": [
        "!pip install import_ipynb"
      ],
      "metadata": {
        "colab": {
          "base_uri": "https://localhost:8080/"
        },
        "id": "SeaGNVKuC9uf",
        "outputId": "1edb2186-2ade-4f81-da3f-2e079a2a6060"
      },
      "execution_count": null,
      "outputs": [
        {
          "output_type": "stream",
          "name": "stdout",
          "text": [
            "Requirement already satisfied: import_ipynb in /usr/local/lib/python3.7/dist-packages (0.1.3)\n"
          ]
        }
      ]
    },
    {
      "cell_type": "code",
      "source": [
        "import import_ipynb"
      ],
      "metadata": {
        "id": "sbTAkvkeDL0_"
      },
      "execution_count": null,
      "outputs": []
    },
    {
      "cell_type": "code",
      "source": [
        "from google.colab import drive\n",
        "drive.mount('/content/drive')"
      ],
      "metadata": {
        "colab": {
          "base_uri": "https://localhost:8080/"
        },
        "id": "YUYwOBiDDW9f",
        "outputId": "4d1ee009-23c0-475c-b9a5-9ff95ba0d505"
      },
      "execution_count": null,
      "outputs": [
        {
          "output_type": "stream",
          "name": "stdout",
          "text": [
            "Mounted at /content/drive\n"
          ]
        }
      ]
    },
    {
      "cell_type": "code",
      "source": [
        "!pwd"
      ],
      "metadata": {
        "colab": {
          "base_uri": "https://localhost:8080/"
        },
        "id": "i_7JqGnJEGq-",
        "outputId": "fc82ead3-e36a-4c18-ece2-90a5cf26b7e6"
      },
      "execution_count": null,
      "outputs": [
        {
          "output_type": "stream",
          "name": "stdout",
          "text": [
            "/content\n"
          ]
        }
      ]
    },
    {
      "cell_type": "code",
      "source": [
        "%cd drive/My\\ Drive/Colab Notebooks"
      ],
      "metadata": {
        "colab": {
          "base_uri": "https://localhost:8080/"
        },
        "id": "NLe3-xn6EP9O",
        "outputId": "a9f05609-6e77-4a4f-cf02-869b3a9d0ab5"
      },
      "execution_count": null,
      "outputs": [
        {
          "output_type": "stream",
          "name": "stdout",
          "text": [
            "/content/drive/My Drive/Colab Notebooks\n"
          ]
        }
      ]
    },
    {
      "cell_type": "code",
      "source": [
        "!pwd"
      ],
      "metadata": {
        "colab": {
          "base_uri": "https://localhost:8080/"
        },
        "id": "tD6VSVqUElf_",
        "outputId": "27a592ef-26d6-487a-d5a9-593b1e36232f"
      },
      "execution_count": null,
      "outputs": [
        {
          "output_type": "stream",
          "name": "stdout",
          "text": [
            "/content/drive/MyDrive/Colab Notebooks\n"
          ]
        }
      ]
    },
    {
      "cell_type": "code",
      "source": [
        "ls"
      ],
      "metadata": {
        "colab": {
          "base_uri": "https://localhost:8080/"
        },
        "id": "oJsE8MXvEyy-",
        "outputId": "ce132e4e-06a2-4d68-8f52-91860ee72732"
      },
      "execution_count": null,
      "outputs": [
        {
          "output_type": "stream",
          "name": "stdout",
          "text": [
            "'기컴프 1장.ipynb'   myFunctions.ipynb   Untitled1.ipynb\n",
            " BCP1week.ipynb      Untitled0.ipynb     Untitled2.ipynb\n"
          ]
        }
      ]
    },
    {
      "cell_type": "markdown",
      "source": [
        "hello_4.py"
      ],
      "metadata": {
        "id": "GZcNfQD6FIf8"
      }
    },
    {
      "cell_type": "code",
      "source": [
        "import myFunctions\n",
        "\n",
        "myFunctions.DoubleHello()"
      ],
      "metadata": {
        "colab": {
          "base_uri": "https://localhost:8080/"
        },
        "id": "5uF1xcrjE_ym",
        "outputId": "2e64fbd2-fb9b-4294-a77d-0b2a70bc0822"
      },
      "execution_count": null,
      "outputs": [
        {
          "output_type": "stream",
          "name": "stdout",
          "text": [
            "Hello World\n",
            "Hello World\n"
          ]
        }
      ]
    },
    {
      "cell_type": "markdown",
      "source": [
        "ceilEx.py"
      ],
      "metadata": {
        "id": "AgRJsqmAKLzM"
      }
    },
    {
      "cell_type": "markdown",
      "source": [
        ""
      ],
      "metadata": {
        "id": "6nXJssb5B5jf"
      }
    },
    {
      "cell_type": "code",
      "source": [
        "# ------------import statements\n",
        "import math\n",
        "\n",
        "# Function definitions\n",
        "def DoubleHello():\n",
        "   print('Hello World')\n",
        "   print('Hello World')\n",
        "\n",
        "# main program\n",
        "ceil_result=math.ceil(3.14)\n",
        "print(ceil_result)\n",
        "DoubleHello()"
      ],
      "metadata": {
        "colab": {
          "base_uri": "https://localhost:8080/"
        },
        "id": "hcc2e5LxKO6k",
        "outputId": "28577ba7-c60f-4084-eb9c-ad479809cefe"
      },
      "execution_count": null,
      "outputs": [
        {
          "output_type": "stream",
          "name": "stdout",
          "text": [
            "4\n"
          ]
        }
      ]
    }
  ]
}